{
 "cells": [
  {
   "cell_type": "code",
   "execution_count": 3,
   "id": "af1c10be",
   "metadata": {},
   "outputs": [
    {
     "name": "stdout",
     "output_type": "stream",
     "text": [
      "Na 100000 simulaties:\n",
      " - Blijven bij eerste keuze: 33.39% winst\n",
      " - Wissel je keuze:       66.73% winst\n"
     ]
    }
   ],
   "source": [
    "# Monty Hall simulatie (dagelijks werk python oefening 1)\n",
    "\n",
    "import random\n",
    "\n",
    "# 1 deur = auto, 2 deuren = geiten\n",
    "# spel sequentie: \n",
    "# 1) speler kiest 1 deur\n",
    "# 2) host die weet auto zitten, opent 1 van de 2 deuren met geit\n",
    "# 3) speler moet kiezen: eerste keuze blijven of wisselen\n",
    "# Wat is de kansverdeling bij blijven of wisselen?\n",
    "\n",
    "\n",
    "def speelEneKeer(wisselen):\n",
    "    deuren = [0, 1, 2]\n",
    "    voiture = random.choice(deuren)\n",
    "    keuze = random.choice(deuren)\n",
    "    \n",
    "    #1\n",
    "    overDeur = [deur for deur in deuren if deur != keuze and deur != voiture]\n",
    "    deurOpen = random.choice(overDeur)\n",
    "\n",
    "    # Als je wisselt, kies je de andere gesloten deur dan die je eerste dacht te nemen\n",
    "    if wisselen:\n",
    "        overgebleven = [deur for deur in deuren if deur != keuze and deur != deurOpen][0]\n",
    "        keuze = overgebleven\n",
    "\n",
    "    #je wint als je de auto kiest\n",
    "    return keuze == voiture\n",
    "\n",
    "\n",
    "def speelAantalKeer(aantal, wisselen):\n",
    "    winst = 0\n",
    "    for _ in range(aantal):\n",
    "        if speelEneKeer(wisselen):\n",
    "            winst += 1\n",
    "    kansFloat = winst / aantal\n",
    "    return kansFloat\n",
    "\n",
    "\n",
    "\n",
    "aantalSpellen = 100000\n",
    "kansBlijvenFloat = speelAantalKeer(aantalSpellen, wisselen=False)\n",
    "kansWisselenFloat = speelAantalKeer(aantalSpellen, wisselen=True)\n",
    "\n",
    "print(f\"Na {aantalSpellen} simulaties:\")\n",
    "print(f\" - Blijven bij eerste keuze: {kansBlijvenFloat*100:.2f}% winst\")\n",
    "print(f\" - Wissel je keuze:       {kansWisselenFloat*100:.2f}% winst\")\n",
    "\n"
   ]
  }
 ],
 "metadata": {
  "kernelspec": {
   "display_name": "Python 3",
   "language": "python",
   "name": "python3"
  },
  "language_info": {
   "codemirror_mode": {
    "name": "ipython",
    "version": 3
   },
   "file_extension": ".py",
   "mimetype": "text/x-python",
   "name": "python",
   "nbconvert_exporter": "python",
   "pygments_lexer": "ipython3",
   "version": "3.13.8"
  }
 },
 "nbformat": 4,
 "nbformat_minor": 5
}
